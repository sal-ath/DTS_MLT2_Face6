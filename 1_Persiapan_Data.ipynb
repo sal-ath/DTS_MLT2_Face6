{
  "nbformat": 4,
  "nbformat_minor": 0,
  "metadata": {
    "colab": {
      "name": "1_Persiapan_Data.ipynb",
      "provenance": [],
      "collapsed_sections": [],
      "authorship_tag": "ABX9TyOrOf5/lU2+WDCi6/9Ht+Il",
      "include_colab_link": true
    },
    "kernelspec": {
      "name": "python3",
      "display_name": "Python 3"
    },
    "language_info": {
      "name": "python"
    },
    "accelerator": "GPU",
    "gpuClass": "standard"
  },
  "cells": [
    {
      "cell_type": "markdown",
      "metadata": {
        "id": "view-in-github",
        "colab_type": "text"
      },
      "source": [
        "<a href=\"https://colab.research.google.com/github/sal-ath/DTS_MLT2_Face6/blob/152236035101-877/1_Persiapan_Data.ipynb\" target=\"_parent\"><img src=\"https://colab.research.google.com/assets/colab-badge.svg\" alt=\"Open In Colab\"/></a>"
      ]
    },
    {
      "cell_type": "markdown",
      "source": [
        "# Runtime\n",
        "Pastikan tipe Runtime **GPU** sebelum memulai, karena akan mempercepat proses"
      ],
      "metadata": {
        "id": "tWv8F_xsSlsc"
      }
    },
    {
      "cell_type": "code",
      "source": [
        "%tensorflow_version 2.x\n",
        "import tensorflow as tf\n",
        "\n",
        "print(tf.test.gpu_device_name())\n",
        "print('Tensorflow version: {}'.format(tf.__version__))"
      ],
      "metadata": {
        "colab": {
          "base_uri": "https://localhost:8080/"
        },
        "id": "72MSRu4LS5-p",
        "outputId": "a045da23-3867-4a31-9912-f6f2baec08c0"
      },
      "execution_count": 1,
      "outputs": [
        {
          "output_type": "stream",
          "name": "stdout",
          "text": [
            "/device:GPU:0\n",
            "Tensorflow version: 2.8.2\n"
          ]
        }
      ]
    },
    {
      "cell_type": "markdown",
      "source": [
        "# Mengarahkan penyimpanan pada Google Drive\n",
        "Hal ini diperlukan, menurut saya, karena jika *dataset* kita letakkan di *directory* Google Colab, akan bisa hilang ketika kita buka Notebook berikutnya"
      ],
      "metadata": {
        "id": "mC8wNJldN3pO"
      }
    },
    {
      "cell_type": "code",
      "execution_count": 2,
      "metadata": {
        "colab": {
          "base_uri": "https://localhost:8080/"
        },
        "id": "1czu2r-9NJR-",
        "outputId": "175d7393-d5c8-4a35-99f9-0a71ad818b5d"
      },
      "outputs": [
        {
          "output_type": "stream",
          "name": "stdout",
          "text": [
            "Mounted at /content/drive\n"
          ]
        }
      ],
      "source": [
        "from google.colab import drive\n",
        "drive.mount('/content/drive')"
      ]
    },
    {
      "cell_type": "markdown",
      "source": [
        "## Upload dataset images.zip ke Google Drive\n",
        "- Letakkan dalam folder files, buat terlebih dahulu jika belum ada, dalam folder Colab Notebooks\n",
        "- Ekstrak file images.zip tersebut\n",
        "\n",
        "**Perlu diperhatikan, lakukan proses ini hanya sekali saja, atau ulangi jika diperlukan*"
      ],
      "metadata": {
        "id": "6LPdW80UPDUi"
      }
    },
    {
      "cell_type": "code",
      "source": [
        "import os\n",
        "import zipfile\n",
        "\n",
        "local_zip = '/content/drive/MyDrive/Colab Notebooks/files/images.zip'\n",
        "zip_ref = zipfile.ZipFile(local_zip, 'r')\n",
        "zip_ref.extractall('/content/drive/MyDrive/Colab Notebooks/files')\n",
        "zip_ref.close()"
      ],
      "metadata": {
        "id": "nlzD0ZM4PBTx"
      },
      "execution_count": 3,
      "outputs": []
    }
  ]
}