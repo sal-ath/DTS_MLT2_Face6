{
  "nbformat": 4,
  "nbformat_minor": 0,
  "metadata": {
    "colab": {
      "name": "1_Persiapan_Data.ipynb",
      "provenance": [],
      "collapsed_sections": [],
      "authorship_tag": "ABX9TyONCtvRVH1/Tmfq9/vTvXno",
      "include_colab_link": true
    },
    "kernelspec": {
      "name": "python3",
      "display_name": "Python 3"
    },
    "language_info": {
      "name": "python"
    },
    "accelerator": "GPU",
    "gpuClass": "standard"
  },
  "cells": [
    {
      "cell_type": "markdown",
      "metadata": {
        "id": "view-in-github",
        "colab_type": "text"
      },
      "source": [
        "<a href=\"https://colab.research.google.com/github/sal-ath/DTS_MLT2_Face6/blob/152236035101-877/1_Persiapan_Data.ipynb\" target=\"_parent\"><img src=\"https://colab.research.google.com/assets/colab-badge.svg\" alt=\"Open In Colab\"/></a>"
      ]
    },
    {
      "cell_type": "markdown",
      "source": [
        "# Runtime\n",
        "Pastikan tipe Runtime **GPU** sebelum memulai, karena akan mempercepat proses"
      ],
      "metadata": {
        "id": "tWv8F_xsSlsc"
      }
    },
    {
      "cell_type": "code",
      "source": [
        "%tensorflow_version 2.x\n",
        "import tensorflow as tf\n",
        "\n",
        "print(tf.test.gpu_device_name())\n",
        "print('Tensorflow version: {}'.format(tf.__version__))"
      ],
      "metadata": {
        "colab": {
          "base_uri": "https://localhost:8080/"
        },
        "id": "72MSRu4LS5-p",
        "outputId": "3318503e-2671-4649-c8ea-6b9dbc14e048"
      },
      "execution_count": 1,
      "outputs": [
        {
          "output_type": "stream",
          "name": "stdout",
          "text": [
            "/device:GPU:0\n",
            "Tensorflow version: 2.8.2\n"
          ]
        }
      ]
    },
    {
      "cell_type": "markdown",
      "source": [
        "# Mengarahkan penyimpanan pada Google Drive\n",
        "Hal ini diperlukan, menurut saya, karena jika *dataset* kita letakkan di *directory* Google Colab, akan bisa hilang ketika kita buka Notebook berikutnya"
      ],
      "metadata": {
        "id": "mC8wNJldN3pO"
      }
    },
    {
      "cell_type": "code",
      "execution_count": 2,
      "metadata": {
        "colab": {
          "base_uri": "https://localhost:8080/"
        },
        "id": "1czu2r-9NJR-",
        "outputId": "b67d05d1-81cb-4736-b374-8887ecce0a35"
      },
      "outputs": [
        {
          "output_type": "stream",
          "name": "stdout",
          "text": [
            "Mounted at /content/drive\n"
          ]
        }
      ],
      "source": [
        "from google.colab import drive\n",
        "dir = '/content/drive'\n",
        "drive.mount(dir)"
      ]
    },
    {
      "cell_type": "markdown",
      "source": [
        "## Upload dataset images.zip ke Google Drive\n",
        "- Letakkan dalam folder files, buat terlebih dahulu jika belum ada, dalam folder Colab Notebooks\n",
        "- Ekstrak file images.zip tersebut\n",
        "\n",
        "**Perlu diperhatikan, lakukan proses ini hanya sekali saja, atau ulangi jika diperlukan*"
      ],
      "metadata": {
        "id": "6LPdW80UPDUi"
      }
    },
    {
      "cell_type": "code",
      "source": [
        "rdir = dir+'/MyDrive/Colab Notebooks/files'"
      ],
      "metadata": {
        "id": "nlzD0ZM4PBTx"
      },
      "execution_count": 3,
      "outputs": []
    },
    {
      "cell_type": "code",
      "source": [
        "import zipfile\n",
        "\n",
        "loc_zip = rdir+'/images.zip'\n",
        "zip_ref = zipfile.ZipFile(loc_zip, 'r')\n",
        "zip_ref.extractall(rdir)\n",
        "zip_ref.close()"
      ],
      "metadata": {
        "id": "vI6Xx1QJG81-"
      },
      "execution_count": 5,
      "outputs": []
    },
    {
      "cell_type": "markdown",
      "source": [
        "## Mempersiapkan Data\n",
        "\n",
        "Membaca *folder* yang ada pada data gambar Train dan Validation sebagai acuan ekspresi pada tiap jenisnya. Sehingga dapat diketahui juga jumlah data tiap ekspresinya. Folder tersebut nantinya akan disimpan sebagai ekspresi dan *file* sebagai data train dan validasi"
      ],
      "metadata": {
        "id": "z1mvHlFLlhpT"
      }
    },
    {
      "cell_type": "code",
      "source": [
        "import os\n",
        "\n",
        "mdir = rdir+'/images/'\n",
        "td = mdir+'train'\n",
        "vd = mdir+'validation'\n",
        "#print(td)\n",
        "tn = sorted(os.listdir(td))\n",
        "print('Train: ',tn[:7])\n",
        "\n",
        "vn = sorted(os.listdir(vd))\n",
        "print('Validation: ',vn[:7])\n",
        "\n",
        "for num in range(len(tn)):\n",
        "    print(num,': ',tn[num],'',len(sorted(os.listdir(td+'/'+tn[num]))))"
      ],
      "metadata": {
        "id": "VJvr3bV0mDcu",
        "outputId": "581d3454-4d78-4189-deba-c40d85b0d2ee",
        "colab": {
          "base_uri": "https://localhost:8080/"
        }
      },
      "execution_count": 6,
      "outputs": [
        {
          "output_type": "stream",
          "name": "stdout",
          "text": [
            "Train:  ['angry', 'disgust', 'fear', 'happy', 'neutral', 'sad', 'surprise']\n",
            "Validation:  ['angry', 'disgust', 'fear', 'happy', 'neutral', 'sad', 'surprise']\n",
            "0 :  angry  3993\n",
            "1 :  disgust  436\n",
            "2 :  fear  4103\n",
            "3 :  happy  7164\n",
            "4 :  neutral  4982\n",
            "5 :  sad  4938\n",
            "6 :  surprise  3205\n"
          ]
        }
      ]
    },
    {
      "cell_type": "markdown",
      "source": [
        "## Membaca Gambar"
      ],
      "metadata": {
        "id": "lQZshmxfJqW2"
      }
    },
    {
      "cell_type": "code",
      "source": [
        "from tqdm import tqdm\n",
        "import cv2\n",
        "import numpy\n",
        "\n",
        "emosi = tn\n",
        "print(emosi)\n",
        "counts = []\n",
        "#count = 0\n",
        "\n",
        "train_images = []\n",
        "train_labels = []\n",
        "\n",
        "for num in range(len(emosi)):\n",
        "    print(num,': ',emosi[num],'',len(sorted(os.listdir(td+'/'+emosi[num]))))\n",
        "    counts.append(len(sorted(os.listdir(td+'/'+emosi[num]))))\n",
        "    \n",
        "    for nmfoto in tqdm(sorted(os.listdir(os.path.join(td+'/'+emosi[num])))):\n",
        "        fotodir = os.path.join(td+'/'+emosi[num]+'/'+nmfoto)\n",
        "#        print(fotodir)\n",
        "        fotonya = cv2.imread(fotodir,cv2.IMREAD_GRAYSCALE)\n",
        "        fotonya = cv2.resize(fotonya, (48,48))\n",
        "        train_images.append(fotonya)\n",
        "\n",
        "        label = int(num)\n",
        "        train_labels.append(label)\n",
        "#        print(label)\n",
        "\n",
        "x_train = numpy.array(train_images)\n",
        "y_train = numpy.array(train_labels)\n",
        "\n",
        "print('x_train shape: {0}'.format(x_train.shape))\n",
        "print('y_train shape: {0}'.format(y_train.shape))"
      ],
      "metadata": {
        "id": "2XUgkhzMJtKL",
        "outputId": "64c1e9c7-c7e6-4126-812e-cf71b155ae76",
        "colab": {
          "base_uri": "https://localhost:8080/"
        }
      },
      "execution_count": 7,
      "outputs": [
        {
          "output_type": "stream",
          "name": "stdout",
          "text": [
            "['angry', 'disgust', 'fear', 'happy', 'neutral', 'sad', 'surprise']\n",
            "0 :  angry  3993\n"
          ]
        },
        {
          "output_type": "stream",
          "name": "stderr",
          "text": [
            "100%|██████████| 3993/3993 [00:08<00:00, 481.27it/s]\n"
          ]
        },
        {
          "output_type": "stream",
          "name": "stdout",
          "text": [
            "1 :  disgust  436\n"
          ]
        },
        {
          "output_type": "stream",
          "name": "stderr",
          "text": [
            "100%|██████████| 436/436 [00:00<00:00, 502.46it/s]\n"
          ]
        },
        {
          "output_type": "stream",
          "name": "stdout",
          "text": [
            "2 :  fear  4103\n"
          ]
        },
        {
          "output_type": "stream",
          "name": "stderr",
          "text": [
            "100%|██████████| 4103/4103 [00:08<00:00, 482.93it/s]\n"
          ]
        },
        {
          "output_type": "stream",
          "name": "stdout",
          "text": [
            "3 :  happy  7164\n"
          ]
        },
        {
          "output_type": "stream",
          "name": "stderr",
          "text": [
            "100%|██████████| 7164/7164 [00:15<00:00, 461.36it/s]\n"
          ]
        },
        {
          "output_type": "stream",
          "name": "stdout",
          "text": [
            "4 :  neutral  4982\n"
          ]
        },
        {
          "output_type": "stream",
          "name": "stderr",
          "text": [
            "100%|██████████| 4982/4982 [00:10<00:00, 471.67it/s]\n"
          ]
        },
        {
          "output_type": "stream",
          "name": "stdout",
          "text": [
            "5 :  sad  4938\n"
          ]
        },
        {
          "output_type": "stream",
          "name": "stderr",
          "text": [
            "100%|██████████| 4938/4938 [00:10<00:00, 467.48it/s]\n"
          ]
        },
        {
          "output_type": "stream",
          "name": "stdout",
          "text": [
            "6 :  surprise  3205\n"
          ]
        },
        {
          "output_type": "stream",
          "name": "stderr",
          "text": [
            "100%|██████████| 3205/3205 [00:07<00:00, 420.58it/s]"
          ]
        },
        {
          "output_type": "stream",
          "name": "stdout",
          "text": [
            "x_train shape: (28821, 48, 48)\n",
            "y_train shape: (28821,)\n"
          ]
        },
        {
          "output_type": "stream",
          "name": "stderr",
          "text": [
            "\n"
          ]
        }
      ]
    }
  ]
}