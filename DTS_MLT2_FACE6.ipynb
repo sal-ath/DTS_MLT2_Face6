{
  "nbformat": 4,
  "nbformat_minor": 0,
  "metadata": {
    "colab": {
      "name": "DTS_MLT2_FACE6.ipynb",
      "provenance": [],
      "collapsed_sections": [],
      "authorship_tag": "ABX9TyM19TIVarT4/lU4lZ0Oi6uJ",
      "include_colab_link": true
    },
    "kernelspec": {
      "name": "python3",
      "display_name": "Python 3"
    },
    "language_info": {
      "name": "python"
    },
    "accelerator": "GPU",
    "gpuClass": "standard"
  },
  "cells": [
    {
      "cell_type": "markdown",
      "metadata": {
        "id": "view-in-github",
        "colab_type": "text"
      },
      "source": [
        "<a href=\"https://colab.research.google.com/github/sal-ath/DTS_MLT2_Face6/blob/152236035101-877/DTS_MLT2_FACE6.ipynb\" target=\"_parent\"><img src=\"https://colab.research.google.com/assets/colab-badge.svg\" alt=\"Open In Colab\"/></a>"
      ]
    },
    {
      "cell_type": "markdown",
      "source": [
        "# **Pengenalan Ekspresi Wajah ketika Diskusi**"
      ],
      "metadata": {
        "id": "ehnI38N2P4U2"
      }
    },
    {
      "cell_type": "markdown",
      "source": [
        "## Runtime\n",
        "Pastikan tipe Runtime **GPU** sebelum memulai, karena akan mempercepat proses"
      ],
      "metadata": {
        "id": "ACUdgU4LQtQ1"
      }
    },
    {
      "cell_type": "code",
      "execution_count": 1,
      "metadata": {
        "colab": {
          "base_uri": "https://localhost:8080/"
        },
        "id": "d2GiGai_Pxg2",
        "outputId": "2abaaaed-2e37-4ff4-892e-03b0d63456f7"
      },
      "outputs": [
        {
          "output_type": "stream",
          "name": "stdout",
          "text": [
            "/device:GPU:0\n",
            "Tensorflow version: 2.8.2\n"
          ]
        }
      ],
      "source": [
        "%tensorflow_version 2.x\n",
        "import tensorflow as tf\n",
        "\n",
        "print(tf.test.gpu_device_name())\n",
        "print('Tensorflow version: {}'.format(tf.__version__))"
      ]
    },
    {
      "cell_type": "markdown",
      "source": [
        "## Mengarahkan penyimpanan pada Google Drive\n",
        "Hal ini diperlukan, menurut saya, karena jika *dataset* kita letakkan di *directory* Google Colab, akan bisa hilang ketika kita buka Notebook berikutnya"
      ],
      "metadata": {
        "id": "q7_7ltjvfXXi"
      }
    },
    {
      "cell_type": "code",
      "source": [
        "from google.colab import drive\n",
        "dir = '/content/drive'\n",
        "drive.mount(dir)"
      ],
      "metadata": {
        "colab": {
          "base_uri": "https://localhost:8080/"
        },
        "id": "vxjWw3e8fY7V",
        "outputId": "74498b44-ce3e-44c5-ce95-4a9b420f1282"
      },
      "execution_count": 2,
      "outputs": [
        {
          "output_type": "stream",
          "name": "stdout",
          "text": [
            "Mounted at /content/drive\n"
          ]
        }
      ]
    },
    {
      "cell_type": "markdown",
      "source": [
        "## Upload dataset images.zip ke Google Drive\n",
        "- Letakkan dalam folder files, buat terlebih dahulu jika belum ada, dalam folder Colab Notebooks\n",
        "- Ekstrak file images.zip tersebut\n",
        "\n",
        "**Perlu diperhatikan, lakukan proses ini hanya sekali saja, atau ulangi jika diperlukan*"
      ],
      "metadata": {
        "id": "h8uEEaJYfxZU"
      }
    },
    {
      "cell_type": "code",
      "source": [
        "rdir = dir+'/MyDrive/Colab Notebooks/files'"
      ],
      "metadata": {
        "id": "w_77KASHf3ts"
      },
      "execution_count": 3,
      "outputs": []
    },
    {
      "cell_type": "code",
      "source": [
        "import zipfile\n",
        "\n",
        "loc_zip = rdir+'/images.zip'\n",
        "zip_ref = zipfile.ZipFile(loc_zip, 'r')\n",
        "zip_ref.extractall(rdir)\n",
        "zip_ref.close()"
      ],
      "metadata": {
        "id": "6CPKaNJHf5J1"
      },
      "execution_count": 5,
      "outputs": []
    },
    {
      "cell_type": "markdown",
      "source": [
        "## Folder dan Mempersiapkan Data\n",
        "Membaca folder yang ada pada data gambar Train dan Validation sebagai acuan ekspresi pada tiap jenisnya. Sehingga dapat diketahui juga jumlah data tiap ekspresinya. Folder nantinya akan disimpan sebagai ekspresi dan file sebagai data train dan validasi"
      ],
      "metadata": {
        "id": "e1KyaQKQgAic"
      }
    },
    {
      "cell_type": "code",
      "source": [
        "import os\n",
        "\n",
        "mdir = rdir+'/images/'\n",
        "td = mdir+'train'\n",
        "vd = mdir+'validation'\n",
        "#print(td)\n",
        "tn = sorted(os.listdir(td))\n",
        "print('Train: ',tn[:7])\n",
        "\n",
        "vn = sorted(os.listdir(vd))\n",
        "print('Validation: ',vn[:7])\n",
        "\n",
        "for num in range(len(tn)):\n",
        "    print(num,': ',tn[num],'',len(sorted(os.listdir(td+'/'+tn[num]))))\n"
      ],
      "metadata": {
        "colab": {
          "base_uri": "https://localhost:8080/"
        },
        "id": "83662eE8gEmv",
        "outputId": "11ae3ccd-3b16-4766-9e97-0df3f3dd05b2"
      },
      "execution_count": 6,
      "outputs": [
        {
          "output_type": "stream",
          "name": "stdout",
          "text": [
            "Train:  ['angry', 'disgust', 'fear', 'happy', 'neutral', 'sad', 'surprise']\n",
            "Validation:  ['angry', 'disgust', 'fear', 'happy', 'neutral', 'sad', 'surprise']\n",
            "0 :  angry  3993\n",
            "1 :  disgust  436\n",
            "2 :  fear  4103\n",
            "3 :  happy  7164\n",
            "4 :  neutral  4982\n",
            "5 :  sad  4938\n",
            "6 :  surprise  3205\n"
          ]
        }
      ]
    },
    {
      "cell_type": "markdown",
      "source": [
        "## Membaca Gambar\n",
        "\n",
        "Membaca gambar-gambar yang ada pada folder Train maupun Validation. Tidak lupa juga menyimpan folder yang sudah diurutkan sebagai labelnya."
      ],
      "metadata": {
        "id": "FATXK3jBhuy5"
      }
    },
    {
      "cell_type": "code",
      "source": [
        "from tqdm import tqdm\n",
        "import cv2\n",
        "import numpy\n",
        "\n",
        "emosi = tn\n",
        "print(emosi)\n",
        "counts = []\n",
        "count = 0\n",
        "\n",
        "train_images = []\n",
        "train_labels = []\n",
        "\n",
        "for num in range(len(emosi)):\n",
        "    print(num,': ',emosi[num],'',len(sorted(os.listdir(td+'/'+emosi[num]))))\n",
        "    counts.append(len(sorted(os.listdir(td+'/'+emosi[num]))))\n",
        "    \n",
        "    for nmfoto in tqdm(sorted(os.listdir(os.path.join(td+'/'+emosi[num])))):\n",
        "        fotodir = os.path.join(td+'/'+emosi[num]+'/'+nmfoto)\n",
        "#        print(fotodir)\n",
        "        fotonya = cv2.imread(fotodir,cv2.IMREAD_GRAYSCALE)\n",
        "        fotonya = cv2.resize(fotonya, (48,48))\n",
        "        train_images.append(fotonya)\n",
        "\n",
        "        label = int(num)\n",
        "        train_labels.append(label)\n",
        "#        print(label)\n",
        "\n",
        "x_train = numpy.array(train_images)\n",
        "y_train = numpy.array(train_labels)\n",
        "\n",
        "print('x_train shape: {0}'.format(x_train.shape))\n",
        "print('y_train shape: {0}'.format(y_train.shape))"
      ],
      "metadata": {
        "colab": {
          "base_uri": "https://localhost:8080/"
        },
        "id": "6sRHiD85hvdf",
        "outputId": "5c2fa3bd-685f-4b09-cd55-d0f12e07199c"
      },
      "execution_count": 7,
      "outputs": [
        {
          "output_type": "stream",
          "name": "stdout",
          "text": [
            "['angry', 'disgust', 'fear', 'happy', 'neutral', 'sad', 'surprise']\n",
            "0 :  angry  3993\n"
          ]
        },
        {
          "output_type": "stream",
          "name": "stderr",
          "text": [
            "100%|██████████| 3993/3993 [00:08<00:00, 481.11it/s]\n"
          ]
        },
        {
          "output_type": "stream",
          "name": "stdout",
          "text": [
            "1 :  disgust  436\n"
          ]
        },
        {
          "output_type": "stream",
          "name": "stderr",
          "text": [
            "100%|██████████| 436/436 [00:00<00:00, 454.18it/s]\n"
          ]
        },
        {
          "output_type": "stream",
          "name": "stdout",
          "text": [
            "2 :  fear  4103\n"
          ]
        },
        {
          "output_type": "stream",
          "name": "stderr",
          "text": [
            "100%|██████████| 4103/4103 [00:08<00:00, 475.65it/s]\n"
          ]
        },
        {
          "output_type": "stream",
          "name": "stdout",
          "text": [
            "3 :  happy  7164\n"
          ]
        },
        {
          "output_type": "stream",
          "name": "stderr",
          "text": [
            "100%|██████████| 7164/7164 [00:15<00:00, 476.43it/s]\n"
          ]
        },
        {
          "output_type": "stream",
          "name": "stdout",
          "text": [
            "4 :  neutral  4982\n"
          ]
        },
        {
          "output_type": "stream",
          "name": "stderr",
          "text": [
            "100%|██████████| 4982/4982 [00:10<00:00, 471.72it/s]\n"
          ]
        },
        {
          "output_type": "stream",
          "name": "stdout",
          "text": [
            "5 :  sad  4938\n"
          ]
        },
        {
          "output_type": "stream",
          "name": "stderr",
          "text": [
            "100%|██████████| 4938/4938 [00:10<00:00, 471.03it/s]\n"
          ]
        },
        {
          "output_type": "stream",
          "name": "stdout",
          "text": [
            "6 :  surprise  3205\n"
          ]
        },
        {
          "output_type": "stream",
          "name": "stderr",
          "text": [
            "100%|██████████| 3205/3205 [00:06<00:00, 467.60it/s]\n"
          ]
        },
        {
          "output_type": "stream",
          "name": "stdout",
          "text": [
            "x_train shape: (28821, 48, 48)\n",
            "y_train shape: (28821,)\n"
          ]
        }
      ]
    },
    {
      "cell_type": "markdown",
      "source": [
        "## Grafik dataset\n",
        "\n",
        "Mengubah tipe label dan mengubah menjadi Bahasa Indonesia, kemudian menampilkan dalam bentuk grafik."
      ],
      "metadata": {
        "id": "G3v_OTnXlmtF"
      }
    },
    {
      "cell_type": "code",
      "source": [
        "import matplotlib.pyplot as plt\n",
        "%matplotlib inline\n",
        "\n",
        "categories = tuple(emosi)\n",
        "print(categories)\n",
        "categories = ('Marah', 'Jijik', 'Takut', 'Senang', 'Netral', 'Sedih', 'Kejutan')\n",
        "print(categories)\n",
        "\n",
        "y_pos = numpy.arange(len(categories))\n",
        "\n",
        "plt.bar(y_pos, counts, align='center', alpha=0.5)\n",
        "plt.xticks(y_pos, categories)\n",
        "plt.ylabel('Jumlah')\n",
        "plt.title('Kategori Dataset')\n",
        "\n",
        "plt.show()"
      ],
      "metadata": {
        "colab": {
          "base_uri": "https://localhost:8080/",
          "height": 316
        },
        "id": "4aXjinOoltkr",
        "outputId": "dcd8675a-005a-4929-f598-c2d41283c28c"
      },
      "execution_count": 8,
      "outputs": [
        {
          "output_type": "stream",
          "name": "stdout",
          "text": [
            "('angry', 'disgust', 'fear', 'happy', 'neutral', 'sad', 'surprise')\n",
            "('Marah', 'Jijik', 'Takut', 'Senang', 'Netral', 'Sedih', 'Kejutan')\n"
          ]
        },
        {
          "output_type": "display_data",
          "data": {
            "text/plain": [
              "<Figure size 432x288 with 1 Axes>"
            ],
            "image/png": "[encoded data removed]"
          },
          "metadata": {
            "needs_background": "light"
          }
        }
      ]
    },
    {
      "cell_type": "markdown",
      "source": [
        "## Menampilkan gambar\n",
        "\n",
        "Menggunakan fungsi random, mengacak dari sejumlah data yang ada, dan menampilkannya hanya 16 gambar beserta label dan kodenya."
      ],
      "metadata": {
        "id": "ZwItZ5demXC0"
      }
    },
    {
      "cell_type": "code",
      "source": [
        "import random\n",
        "import math\n",
        "\n",
        "nfig = 16\n",
        "ncol = math.sqrt(nfig)\n",
        "fig = plt.gcf()\n",
        "fig.set_size_inches(nfig, nfig)\n",
        "\n",
        "for nfoto in range(nfig):\n",
        "  fotoke = random.randint(0, x_train.shape[0])\n",
        "  image = x_train[fotoke]\n",
        "  label = y_train[fotoke]\n",
        "  ax = plt.subplot(ncol, ncol, nfoto+1)\n",
        "  plt.axis('off')\n",
        "  ax.set_title(str(label)+': '+str(categories[label]))\n",
        "  plt.imshow(image, cmap='bone')\n",
        "plt.show()"
      ],
      "metadata": {
        "colab": {
          "base_uri": "https://localhost:8080/",
          "height": 917
        },
        "id": "a6KgjE-ZmcvK",
        "outputId": "67a8a4d7-f295-4519-ef57-fb43d621b9b4"
      },
      "execution_count": 9,
      "outputs": [
        {
          "output_type": "display_data",
          "data": {
            "text/plain": [
              "<Figure size 1152x1152 with 16 Axes>"
            ],
            "image/png": "[encoded data removed]"
          },
          "metadata": {
            "needs_background": "light"
          }
        }
      ]
    },
    {
      "cell_type": "markdown",
      "source": [
        "## Persiapan Pemrosesan Data\n",
        "\n",
        "Membagi antara data Training dan Test"
      ],
      "metadata": {
        "id": "ooHEyDejoA3_"
      }
    },
    {
      "cell_type": "code",
      "source": [
        "from sklearn.model_selection import train_test_split\n",
        "\n",
        "x_train, x_test, y_train, y_test = train_test_split(x_train, y_train, test_size=0.2)\n",
        "x_train, x_test = x_train / 255.0, x_test / 255.0\n",
        "\n",
        "x_train = x_train.reshape(len(x_train), 48, 48, 1)\n",
        "x_test = x_test.reshape(len(x_test), 48, 48, 1)\n",
        "\n",
        "print(x_train.shape)\n",
        "print(x_test.shape)"
      ],
      "metadata": {
        "colab": {
          "base_uri": "https://localhost:8080/"
        },
        "id": "vkpIytk2oFHz",
        "outputId": "4f763654-6b2b-46d0-c45c-cd7c17775c72"
      },
      "execution_count": 10,
      "outputs": [
        {
          "output_type": "stream",
          "name": "stdout",
          "text": [
            "(23056, 48, 48, 1)\n",
            "(5765, 48, 48, 1)\n"
          ]
        }
      ]
    },
    {
      "cell_type": "markdown",
      "source": [
        "## Melakukan Training Model\n",
        "\n",
        "*   Memanggil beberapa paket fungsi yang diperlukan\n",
        "*   Membuat model yang terdiri dari beberapa tumpuk layer dan menampilkan rangkumannya\n",
        "*   Meng-compile model tersebut\n",
        "*   Menggunakan strategi EarlyStopping untuk mengantisipasi jika val_accuracy tidak ada peningkatan, makan training dihentikan\n"
      ],
      "metadata": {
        "id": "XnCFH7YHolLq"
      }
    },
    {
      "cell_type": "code",
      "source": [
        "%tensorflow_version 2.x\n",
        "import tensorflow as tf\n",
        "\n",
        "print(tf.test.gpu_device_name())\n",
        "print('Tensorflow version: {}'.format(tf.__version__))\n",
        "\n",
        "from tensorflow.keras.models import Sequential\n",
        "from tensorflow.keras.layers import Conv2D, BatchNormalization, MaxPooling2D, Dropout, Flatten, Dense\n",
        "\n",
        "from tensorflow.keras.optimizers import Adam\n",
        "from tensorflow.keras.callbacks import EarlyStopping, ReduceLROnPlateau\n",
        "\n",
        "from tensorflow.keras import Model, Input\n",
        "\n",
        "from tensorflow.keras.preprocessing.image import ImageDataGenerator"
      ],
      "metadata": {
        "colab": {
          "base_uri": "https://localhost:8080/"
        },
        "id": "EN18VVRmotJZ",
        "outputId": "f5ec46a7-dba8-4b46-8fd9-22ac7d9be48f"
      },
      "execution_count": 13,
      "outputs": [
        {
          "output_type": "stream",
          "name": "stdout",
          "text": [
            "/device:GPU:0\n",
            "Tensorflow version: 2.8.2\n"
          ]
        }
      ]
    },
    {
      "cell_type": "code",
      "source": [
        "modelku = tf.keras.models.Sequential([\n",
        "  tf.keras.layers.Conv2D(64, kernel_size=(3,3), activation='relu', input_shape=(48, 48, 1)),\n",
        "  tf.keras.layers.Conv2D(64, kernel_size=(3,3), activation='relu', padding='same'),\n",
        "  tf.keras.layers.BatchNormalization(),\n",
        "  tf.keras.layers.MaxPooling2D(pool_size=(3,3), strides=(2,2)),\n",
        "  tf.keras.layers.Dropout(0.25),\n",
        "  tf.keras.layers.Conv2D(128, kernel_size=(3,3), activation='relu', padding='same'),\n",
        "  tf.keras.layers.Conv2D(128, kernel_size=(3,3), activation='relu', padding='same'),\n",
        "  tf.keras.layers.BatchNormalization(),\n",
        "  tf.keras.layers.MaxPooling2D(pool_size=(3,3), strides=(2,2)),\n",
        "  tf.keras.layers.Dropout(0.25),\n",
        "  tf.keras.layers.Conv2D(256, kernel_size=(3,3), activation='relu', padding='same'),\n",
        "  tf.keras.layers.Conv2D(256, kernel_size=(3,3), activation='relu', padding='same'),\n",
        "  tf.keras.layers.BatchNormalization(),\n",
        "  tf.keras.layers.MaxPooling2D(pool_size=(3,3), strides=(2,2)),\n",
        "  tf.keras.layers.Dropout(0.25),\n",
        "  tf.keras.layers.Conv2D(512, kernel_size=(3,3), activation='relu', padding='same'),\n",
        "  tf.keras.layers.Conv2D(512, kernel_size=(3,3), activation='relu', padding='same'),\n",
        "  tf.keras.layers.BatchNormalization(),\n",
        "  tf.keras.layers.MaxPooling2D(pool_size=(3,3), strides=(2,2)),\n",
        "  tf.keras.layers.Dropout(0.25),\n",
        "  tf.keras.layers.Flatten(),\n",
        "  tf.keras.layers.Dense(512, activation='relu'),\n",
        "  tf.keras.layers.Dropout(0.25),\n",
        "  tf.keras.layers.Dense(64, activation='relu'),\n",
        "  tf.keras.layers.Dropout(0.25),\n",
        "  tf.keras.layers.Dense(7, activation='softmax')\n",
        "])"
      ],
      "metadata": {
        "id": "ssC57rPAo3-v"
      },
      "execution_count": 15,
      "outputs": []
    },
    {
      "cell_type": "code",
      "source": [
        "modelku.summary()"
      ],
      "metadata": {
        "colab": {
          "base_uri": "https://localhost:8080/"
        },
        "id": "1tNlbT0qp_8R",
        "outputId": "d356b26c-6f8d-472c-bffd-21cba3675add"
      },
      "execution_count": 16,
      "outputs": [
        {
          "output_type": "stream",
          "name": "stdout",
          "text": [
            "Model: \"sequential_2\"\n",
            "_________________________________________________________________\n",
            " Layer (type)                Output Shape              Param #   \n",
            "=================================================================\n",
            " conv2d_16 (Conv2D)          (None, 46, 46, 64)        640       \n",
            "                                                                 \n",
            " conv2d_17 (Conv2D)          (None, 46, 46, 64)        36928     \n",
            "                                                                 \n",
            " batch_normalization_8 (Batc  (None, 46, 46, 64)       256       \n",
            " hNormalization)                                                 \n",
            "                                                                 \n",
            " max_pooling2d_8 (MaxPooling  (None, 22, 22, 64)       0         \n",
            " 2D)                                                             \n",
            "                                                                 \n",
            " dropout_12 (Dropout)        (None, 22, 22, 64)        0         \n",
            "                                                                 \n",
            " conv2d_18 (Conv2D)          (None, 22, 22, 128)       73856     \n",
            "                                                                 \n",
            " conv2d_19 (Conv2D)          (None, 22, 22, 128)       147584    \n",
            "                                                                 \n",
            " batch_normalization_9 (Batc  (None, 22, 22, 128)      512       \n",
            " hNormalization)                                                 \n",
            "                                                                 \n",
            " max_pooling2d_9 (MaxPooling  (None, 10, 10, 128)      0         \n",
            " 2D)                                                             \n",
            "                                                                 \n",
            " dropout_13 (Dropout)        (None, 10, 10, 128)       0         \n",
            "                                                                 \n",
            " conv2d_20 (Conv2D)          (None, 10, 10, 256)       295168    \n",
            "                                                                 \n",
            " conv2d_21 (Conv2D)          (None, 10, 10, 256)       590080    \n",
            "                                                                 \n",
            " batch_normalization_10 (Bat  (None, 10, 10, 256)      1024      \n",
            " chNormalization)                                                \n",
            "                                                                 \n",
            " max_pooling2d_10 (MaxPoolin  (None, 4, 4, 256)        0         \n",
            " g2D)                                                            \n",
            "                                                                 \n",
            " dropout_14 (Dropout)        (None, 4, 4, 256)         0         \n",
            "                                                                 \n",
            " conv2d_22 (Conv2D)          (None, 4, 4, 512)         1180160   \n",
            "                                                                 \n",
            " conv2d_23 (Conv2D)          (None, 4, 4, 512)         2359808   \n",
            "                                                                 \n",
            " batch_normalization_11 (Bat  (None, 4, 4, 512)        2048      \n",
            " chNormalization)                                                \n",
            "                                                                 \n",
            " max_pooling2d_11 (MaxPoolin  (None, 1, 1, 512)        0         \n",
            " g2D)                                                            \n",
            "                                                                 \n",
            " dropout_15 (Dropout)        (None, 1, 1, 512)         0         \n",
            "                                                                 \n",
            " flatten_2 (Flatten)         (None, 512)               0         \n",
            "                                                                 \n",
            " dense_6 (Dense)             (None, 512)               262656    \n",
            "                                                                 \n",
            " dropout_16 (Dropout)        (None, 512)               0         \n",
            "                                                                 \n",
            " dense_7 (Dense)             (None, 64)                32832     \n",
            "                                                                 \n",
            " dropout_17 (Dropout)        (None, 64)                0         \n",
            "                                                                 \n",
            " dense_8 (Dense)             (None, 7)                 455       \n",
            "                                                                 \n",
            "=================================================================\n",
            "Total params: 4,984,007\n",
            "Trainable params: 4,982,087\n",
            "Non-trainable params: 1,920\n",
            "_________________________________________________________________\n"
          ]
        }
      ]
    },
    {
      "cell_type": "code",
      "source": [
        "adam = Adam(learning_rate=0.001)\n",
        "modelku.compile(optimizer=adam,\n",
        "                  loss='sparse_categorical_crossentropy',\n",
        "                  metrics=['accuracy'])"
      ],
      "metadata": {
        "id": "w1iie7MTqM9_"
      },
      "execution_count": 17,
      "outputs": []
    },
    {
      "cell_type": "code",
      "source": [
        "early_stopping = EarlyStopping(monitor='val_accuracy', patience=10)\n",
        "reduce_learning_rate = ReduceLROnPlateau(monitor='val_loss', factor=0.9, patience=5)\n",
        "\n",
        "history = modelku.fit(x_train,\n",
        "                    y_train,\n",
        "                    batch_size=64,\n",
        "                    epochs=100,\n",
        "                    validation_data=(x_test, y_test),\n",
        "                    callbacks=[early_stopping, reduce_learning_rate])"
      ],
      "metadata": {
        "colab": {
          "base_uri": "https://localhost:8080/"
        },
        "id": "VNApohA-qrdc",
        "outputId": "bc33ebf9-87d0-4742-9077-0ecd4898bf71"
      },
      "execution_count": 19,
      "outputs": [
        {
          "output_type": "stream",
          "name": "stdout",
          "text": [
            "Epoch 1/100\n",
            "361/361 [==============================] - 14s 40ms/step - loss: 0.2284 - accuracy: 0.9226 - val_loss: 1.8818 - val_accuracy: 0.6258 - lr: 7.2900e-04\n",
            "Epoch 2/100\n",
            "361/361 [==============================] - 14s 39ms/step - loss: 0.2133 - accuracy: 0.9291 - val_loss: 1.7643 - val_accuracy: 0.6375 - lr: 7.2900e-04\n",
            "Epoch 3/100\n",
            "361/361 [==============================] - 14s 40ms/step - loss: 0.1899 - accuracy: 0.9380 - val_loss: 1.9517 - val_accuracy: 0.6328 - lr: 7.2900e-04\n",
            "Epoch 4/100\n",
            "361/361 [==============================] - 14s 40ms/step - loss: 0.1877 - accuracy: 0.9364 - val_loss: 1.9519 - val_accuracy: 0.6206 - lr: 7.2900e-04\n",
            "Epoch 5/100\n",
            "361/361 [==============================] - 14s 39ms/step - loss: 0.1800 - accuracy: 0.9401 - val_loss: 2.0432 - val_accuracy: 0.6173 - lr: 7.2900e-04\n",
            "Epoch 6/100\n",
            "361/361 [==============================] - 14s 38ms/step - loss: 0.1743 - accuracy: 0.9408 - val_loss: 2.1024 - val_accuracy: 0.6205 - lr: 7.2900e-04\n",
            "Epoch 7/100\n",
            "361/361 [==============================] - 14s 39ms/step - loss: 0.1672 - accuracy: 0.9438 - val_loss: 1.9905 - val_accuracy: 0.6224 - lr: 7.2900e-04\n",
            "Epoch 8/100\n",
            "361/361 [==============================] - 14s 39ms/step - loss: 0.1467 - accuracy: 0.9514 - val_loss: 2.2327 - val_accuracy: 0.6253 - lr: 6.5610e-04\n",
            "Epoch 9/100\n",
            "361/361 [==============================] - 14s 39ms/step - loss: 0.1437 - accuracy: 0.9535 - val_loss: 2.0446 - val_accuracy: 0.6323 - lr: 6.5610e-04\n",
            "Epoch 10/100\n",
            "361/361 [==============================] - 14s 39ms/step - loss: 0.1343 - accuracy: 0.9555 - val_loss: 2.2501 - val_accuracy: 0.6241 - lr: 6.5610e-04\n",
            "Epoch 11/100\n",
            "361/361 [==============================] - 14s 39ms/step - loss: 0.1298 - accuracy: 0.9575 - val_loss: 2.1829 - val_accuracy: 0.6205 - lr: 6.5610e-04\n",
            "Epoch 12/100\n",
            "361/361 [==============================] - 14s 39ms/step - loss: 0.1287 - accuracy: 0.9574 - val_loss: 2.0312 - val_accuracy: 0.6295 - lr: 6.5610e-04\n"
          ]
        }
      ]
    },
    {
      "cell_type": "markdown",
      "source": [
        "Score awal yang di dapat dari training model"
      ],
      "metadata": {
        "id": "WHOaKifqtonm"
      }
    },
    {
      "cell_type": "code",
      "source": [
        "_, scorenya = modelku.evaluate(x_test, y_test)\n",
        "print('Score awal: {}'.format(scorenya))"
      ],
      "metadata": {
        "colab": {
          "base_uri": "https://localhost:8080/"
        },
        "id": "B003e8jAteWW",
        "outputId": "1ee80a05-db3b-43fe-e4d5-b6332e1e4caf"
      },
      "execution_count": 20,
      "outputs": [
        {
          "output_type": "stream",
          "name": "stdout",
          "text": [
            "181/181 [==============================] - 2s 8ms/step - loss: 2.0312 - accuracy: 0.6295\n",
            "Score awal: 0.6294882893562317\n"
          ]
        }
      ]
    },
    {
      "cell_type": "markdown",
      "source": [
        "## Meningkatkan kemampuan model\n",
        "\n",
        "Membuat daftar data kasar yang diperoleh dari data yang labelnya kurang sesuai dan melakukan training\n",
        "\n"
      ],
      "metadata": {
        "id": "SgsjaiSktwCN"
      }
    },
    {
      "cell_type": "code",
      "source": [
        "hard_images = []\n",
        "hard_labels = []\n",
        "\n",
        "predictions = modelku.predict(x_test)\n",
        "for i, v in enumerate(predictions):\n",
        "    y_predict = numpy.argmax(v)\n",
        "    y_real = y_train[i]\n",
        "    if y_predict != y_real:\n",
        "        image = x_train[i]\n",
        "        hard_image = image.reshape(1, 48, 48, 1)\n",
        "        hard_images.append(image)\n",
        "        hard_labels.append(y_real)\n",
        "\n",
        "x_hard = numpy.array(hard_images)\n",
        "y_hard = numpy.array(hard_labels)\n",
        "\n",
        "print(x_hard.shape)\n",
        "print(y_hard.shape)"
      ],
      "metadata": {
        "colab": {
          "base_uri": "https://localhost:8080/"
        },
        "id": "L4Y_bTYvt4UA",
        "outputId": "f131356d-75a4-41d2-87ba-790c6ba73bb3"
      },
      "execution_count": 21,
      "outputs": [
        {
          "output_type": "stream",
          "name": "stdout",
          "text": [
            "(4770, 48, 48, 1)\n",
            "(4770,)\n"
          ]
        }
      ]
    },
    {
      "cell_type": "code",
      "source": [
        "x_hard_train, x_hard_test, y_hard_train, y_hard_test = train_test_split(x_hard, y_hard, test_size=0.2)\n",
        "history = modelku.fit(x_hard_train,\n",
        "                        y_hard_train,\n",
        "                        batch_size=64,\n",
        "                        epochs=100,\n",
        "                        validation_data=(x_hard_test, y_hard_test),\n",
        "                        callbacks=[early_stopping, reduce_learning_rate])"
      ],
      "metadata": {
        "colab": {
          "base_uri": "https://localhost:8080/"
        },
        "id": "-EdtBPuju2li",
        "outputId": "41cfd172-a0a8-4149-cb36-e02b28d58635"
      },
      "execution_count": 22,
      "outputs": [
        {
          "output_type": "stream",
          "name": "stdout",
          "text": [
            "Epoch 1/100\n",
            "60/60 [==============================] - 4s 62ms/step - loss: 0.1076 - accuracy: 0.9633 - val_loss: 0.0169 - val_accuracy: 0.9937 - lr: 5.9049e-04\n",
            "Epoch 2/100\n",
            "60/60 [==============================] - 2s 41ms/step - loss: 0.0642 - accuracy: 0.9819 - val_loss: 0.0219 - val_accuracy: 0.9916 - lr: 5.9049e-04\n",
            "Epoch 3/100\n",
            "60/60 [==============================] - 2s 41ms/step - loss: 0.0629 - accuracy: 0.9796 - val_loss: 0.0144 - val_accuracy: 0.9937 - lr: 5.9049e-04\n",
            "Epoch 4/100\n",
            "60/60 [==============================] - 2s 39ms/step - loss: 0.0593 - accuracy: 0.9814 - val_loss: 0.0245 - val_accuracy: 0.9916 - lr: 5.9049e-04\n",
            "Epoch 5/100\n",
            "60/60 [==============================] - 2s 39ms/step - loss: 0.0516 - accuracy: 0.9809 - val_loss: 0.0199 - val_accuracy: 0.9937 - lr: 5.9049e-04\n",
            "Epoch 6/100\n",
            "60/60 [==============================] - 2s 39ms/step - loss: 0.0462 - accuracy: 0.9858 - val_loss: 0.0302 - val_accuracy: 0.9916 - lr: 5.9049e-04\n",
            "Epoch 7/100\n",
            "60/60 [==============================] - 2s 39ms/step - loss: 0.0371 - accuracy: 0.9874 - val_loss: 0.0325 - val_accuracy: 0.9927 - lr: 5.9049e-04\n",
            "Epoch 8/100\n",
            "60/60 [==============================] - 2s 39ms/step - loss: 0.0570 - accuracy: 0.9822 - val_loss: 0.0444 - val_accuracy: 0.9864 - lr: 5.9049e-04\n",
            "Epoch 9/100\n",
            "60/60 [==============================] - 2s 39ms/step - loss: 0.0409 - accuracy: 0.9853 - val_loss: 0.0771 - val_accuracy: 0.9811 - lr: 5.3144e-04\n",
            "Epoch 10/100\n",
            "60/60 [==============================] - 2s 41ms/step - loss: 0.0389 - accuracy: 0.9866 - val_loss: 0.0585 - val_accuracy: 0.9874 - lr: 5.3144e-04\n",
            "Epoch 11/100\n",
            "60/60 [==============================] - 2s 39ms/step - loss: 0.0306 - accuracy: 0.9900 - val_loss: 0.0702 - val_accuracy: 0.9822 - lr: 5.3144e-04\n"
          ]
        }
      ]
    },
    {
      "cell_type": "markdown",
      "source": [
        "Melakukan training ulang dan menggunakan proses lebih mendalam dengan memutar, membalik, memperbesar gambar"
      ],
      "metadata": {
        "id": "0jfCkt62vn6R"
      }
    },
    {
      "cell_type": "code",
      "source": [
        "data_generator = ImageDataGenerator(featurewise_center=False,\n",
        "                                    featurewise_std_normalization=False,\n",
        "                                    rotation_range=10,\n",
        "                                    width_shift_range=0.1,\n",
        "                                    height_shift_range=0.1,\n",
        "                                    zoom_range=.1,\n",
        "                                    horizontal_flip=True)\n",
        "flow = data_generator.flow(x_train, \n",
        "                           y_train, \n",
        "                           batch_size=64)\n",
        "\n",
        "history = modelku.fit(flow,\n",
        "                        epochs=100,\n",
        "                        validation_data=(x_test, y_test),\n",
        "                        callbacks=[early_stopping, reduce_learning_rate])"
      ],
      "metadata": {
        "colab": {
          "base_uri": "https://localhost:8080/"
        },
        "id": "4dKueI_NvQdN",
        "outputId": "c8abcde1-6768-4510-8f09-96da59bba33e"
      },
      "execution_count": 23,
      "outputs": [
        {
          "output_type": "stream",
          "name": "stdout",
          "text": [
            "Epoch 1/100\n",
            "361/361 [==============================] - 16s 43ms/step - loss: 1.1097 - accuracy: 0.6210 - val_loss: 1.0074 - val_accuracy: 0.6435 - lr: 5.3144e-04\n",
            "Epoch 2/100\n",
            "361/361 [==============================] - 16s 44ms/step - loss: 0.9944 - accuracy: 0.6487 - val_loss: 0.9829 - val_accuracy: 0.6479 - lr: 5.3144e-04\n",
            "Epoch 3/100\n",
            "361/361 [==============================] - 17s 48ms/step - loss: 0.9567 - accuracy: 0.6599 - val_loss: 0.9766 - val_accuracy: 0.6538 - lr: 5.3144e-04\n",
            "Epoch 4/100\n",
            "361/361 [==============================] - 15s 41ms/step - loss: 0.9429 - accuracy: 0.6631 - val_loss: 0.9713 - val_accuracy: 0.6484 - lr: 5.3144e-04\n",
            "Epoch 5/100\n",
            "361/361 [==============================] - 19s 53ms/step - loss: 0.9210 - accuracy: 0.6731 - val_loss: 0.9762 - val_accuracy: 0.6560 - lr: 5.3144e-04\n",
            "Epoch 6/100\n",
            "361/361 [==============================] - 15s 40ms/step - loss: 0.8969 - accuracy: 0.6786 - val_loss: 0.9936 - val_accuracy: 0.6448 - lr: 5.3144e-04\n",
            "Epoch 7/100\n",
            "361/361 [==============================] - 15s 40ms/step - loss: 0.9040 - accuracy: 0.6815 - val_loss: 0.9844 - val_accuracy: 0.6465 - lr: 5.3144e-04\n",
            "Epoch 8/100\n",
            "361/361 [==============================] - 15s 40ms/step - loss: 0.8836 - accuracy: 0.6852 - val_loss: 0.9792 - val_accuracy: 0.6475 - lr: 5.3144e-04\n",
            "Epoch 9/100\n",
            "361/361 [==============================] - 16s 44ms/step - loss: 0.8677 - accuracy: 0.6905 - val_loss: 0.9795 - val_accuracy: 0.6602 - lr: 5.3144e-04\n",
            "Epoch 10/100\n",
            "361/361 [==============================] - 15s 41ms/step - loss: 0.8559 - accuracy: 0.6923 - val_loss: 0.9956 - val_accuracy: 0.6470 - lr: 4.7830e-04\n",
            "Epoch 11/100\n",
            "361/361 [==============================] - 16s 44ms/step - loss: 0.8339 - accuracy: 0.7039 - val_loss: 0.9767 - val_accuracy: 0.6555 - lr: 4.7830e-04\n",
            "Epoch 12/100\n",
            "361/361 [==============================] - 15s 41ms/step - loss: 0.8305 - accuracy: 0.7006 - val_loss: 1.0145 - val_accuracy: 0.6428 - lr: 4.7830e-04\n",
            "Epoch 13/100\n",
            "361/361 [==============================] - 15s 40ms/step - loss: 0.8189 - accuracy: 0.7058 - val_loss: 0.9748 - val_accuracy: 0.6508 - lr: 4.7830e-04\n",
            "Epoch 14/100\n",
            "361/361 [==============================] - 15s 40ms/step - loss: 0.8133 - accuracy: 0.7083 - val_loss: 1.0020 - val_accuracy: 0.6474 - lr: 4.7830e-04\n",
            "Epoch 15/100\n",
            "361/361 [==============================] - 16s 43ms/step - loss: 0.7909 - accuracy: 0.7212 - val_loss: 0.9878 - val_accuracy: 0.6546 - lr: 4.3047e-04\n",
            "Epoch 16/100\n",
            "361/361 [==============================] - 15s 40ms/step - loss: 0.7903 - accuracy: 0.7170 - val_loss: 0.9865 - val_accuracy: 0.6552 - lr: 4.3047e-04\n",
            "Epoch 17/100\n",
            "361/361 [==============================] - 15s 41ms/step - loss: 0.7720 - accuracy: 0.7247 - val_loss: 1.0060 - val_accuracy: 0.6501 - lr: 4.3047e-04\n",
            "Epoch 18/100\n",
            "361/361 [==============================] - 15s 40ms/step - loss: 0.7638 - accuracy: 0.7227 - val_loss: 0.9866 - val_accuracy: 0.6590 - lr: 4.3047e-04\n",
            "Epoch 19/100\n",
            "361/361 [==============================] - 15s 42ms/step - loss: 0.7607 - accuracy: 0.7301 - val_loss: 1.0026 - val_accuracy: 0.6607 - lr: 4.3047e-04\n",
            "Epoch 20/100\n",
            "361/361 [==============================] - 15s 40ms/step - loss: 0.7453 - accuracy: 0.7311 - val_loss: 1.0025 - val_accuracy: 0.6546 - lr: 3.8742e-04\n",
            "Epoch 21/100\n",
            "361/361 [==============================] - 15s 41ms/step - loss: 0.7403 - accuracy: 0.7313 - val_loss: 0.9778 - val_accuracy: 0.6645 - lr: 3.8742e-04\n",
            "Epoch 22/100\n",
            "361/361 [==============================] - 15s 41ms/step - loss: 0.7268 - accuracy: 0.7393 - val_loss: 0.9947 - val_accuracy: 0.6624 - lr: 3.8742e-04\n",
            "Epoch 23/100\n",
            "361/361 [==============================] - 15s 41ms/step - loss: 0.7216 - accuracy: 0.7422 - val_loss: 0.9985 - val_accuracy: 0.6612 - lr: 3.8742e-04\n",
            "Epoch 24/100\n",
            "361/361 [==============================] - 17s 47ms/step - loss: 0.7130 - accuracy: 0.7452 - val_loss: 1.0331 - val_accuracy: 0.6501 - lr: 3.8742e-04\n",
            "Epoch 25/100\n",
            "361/361 [==============================] - 16s 44ms/step - loss: 0.7015 - accuracy: 0.7466 - val_loss: 1.0304 - val_accuracy: 0.6529 - lr: 3.4868e-04\n",
            "Epoch 26/100\n",
            "361/361 [==============================] - 15s 41ms/step - loss: 0.6730 - accuracy: 0.7582 - val_loss: 1.0172 - val_accuracy: 0.6493 - lr: 3.4868e-04\n",
            "Epoch 27/100\n",
            "361/361 [==============================] - 16s 44ms/step - loss: 0.6891 - accuracy: 0.7561 - val_loss: 1.0032 - val_accuracy: 0.6572 - lr: 3.4868e-04\n",
            "Epoch 28/100\n",
            "361/361 [==============================] - 15s 41ms/step - loss: 0.6770 - accuracy: 0.7595 - val_loss: 1.0241 - val_accuracy: 0.6585 - lr: 3.4868e-04\n",
            "Epoch 29/100\n",
            "361/361 [==============================] - 15s 41ms/step - loss: 0.6726 - accuracy: 0.7588 - val_loss: 1.0230 - val_accuracy: 0.6592 - lr: 3.4868e-04\n",
            "Epoch 30/100\n",
            "361/361 [==============================] - 15s 41ms/step - loss: 0.6595 - accuracy: 0.7608 - val_loss: 1.0297 - val_accuracy: 0.6592 - lr: 3.1381e-04\n",
            "Epoch 31/100\n",
            "361/361 [==============================] - 15s 40ms/step - loss: 0.6556 - accuracy: 0.7661 - val_loss: 1.0335 - val_accuracy: 0.6598 - lr: 3.1381e-04\n"
          ]
        }
      ]
    },
    {
      "cell_type": "markdown",
      "source": [
        "Score setelah dilakukan peningkatan kemampuan"
      ],
      "metadata": {
        "id": "5xpLMpW3wNms"
      }
    },
    {
      "cell_type": "code",
      "source": [
        "_, scoref = modelku.evaluate(x_test, y_test)\n",
        "print('Score final: {}'.format(scoref))"
      ],
      "metadata": {
        "colab": {
          "base_uri": "https://localhost:8080/"
        },
        "id": "VLxJMjnbwRY3",
        "outputId": "2e381c74-04de-465d-afec-4da2d7e1279c"
      },
      "execution_count": 24,
      "outputs": [
        {
          "output_type": "stream",
          "name": "stdout",
          "text": [
            "181/181 [==============================] - 2s 9ms/step - loss: 1.0335 - accuracy: 0.6598\n",
            "Score final: 0.6598438620567322\n"
          ]
        }
      ]
    },
    {
      "cell_type": "markdown",
      "source": [
        "## Menyimpan model\n",
        "\n",
        "*   Tipe h5\n",
        "*   dan tipe yang lite\n",
        "\n"
      ],
      "metadata": {
        "id": "mZPX19hW4KIc"
      }
    },
    {
      "cell_type": "code",
      "source": [
        "modelku.save('MLT2FACE6.h5')"
      ],
      "metadata": {
        "id": "XXNAl2X54Tu1"
      },
      "execution_count": 25,
      "outputs": []
    },
    {
      "cell_type": "code",
      "source": [
        "converter = tf.lite.TFLiteConverter.from_keras_model(modelku)\n",
        "tflite_model = converter.convert()\n",
        "open(\"MLT2FACE6.tflite\", \"wb\").write(tflite_model)"
      ],
      "metadata": {
        "colab": {
          "base_uri": "https://localhost:8080/"
        },
        "id": "2SYrk5iV4Xxs",
        "outputId": "c8754078-04b2-4004-e9c6-54391f3c5186"
      },
      "execution_count": 26,
      "outputs": [
        {
          "output_type": "stream",
          "name": "stdout",
          "text": [
            "INFO:tensorflow:Assets written to: /tmp/tmp2b2vqdtq/assets\n"
          ]
        },
        {
          "output_type": "stream",
          "name": "stderr",
          "text": [
            "WARNING:absl:Buffer deduplication procedure will be skipped when flatbuffer library is not properly loaded\n"
          ]
        },
        {
          "output_type": "execute_result",
          "data": {
            "text/plain": [
              "19937280"
            ]
          },
          "metadata": {},
          "execution_count": 26
        }
      ]
    },
    {
      "cell_type": "markdown",
      "source": [
        "## Pengujian\n",
        "\n",
        "*   Membuat fungsi pengujian menggunakan foto\n",
        "*   dan fungsi pengujian menggunakan live video\n",
        "\n"
      ],
      "metadata": {
        "id": "1da4doZi4p-y"
      }
    },
    {
      "cell_type": "code",
      "source": [
        "from tensorflow.keras.preprocessing import image\n",
        "\n",
        "def prediksi_gambar(image_path):\n",
        "    rgb_image = image.load_img(path=image_path,\n",
        "                            color_mode='grayscale',\n",
        "                            target_size=(48, 48))\n",
        "\n",
        "    rgb_array = image.img_to_array(rgb_image)\n",
        "    rgb_array = numpy.expand_dims(rgb_array, axis=0)\n",
        "\n",
        "    rgb_display = numpy.array(rgb_array, 'float32')\n",
        "    rgb_display = rgb_display.reshape([48, 48]);\n",
        "    plt.imshow(rgb_display, cmap='bone')\n",
        "    plt.axis('off')\n",
        "\n",
        "    rgb_array = rgb_array / 255.0\n",
        "    prediction = modelku.predict(rgb_array)\n",
        "    plt.title('Prediksi: '+str(categories[int(numpy.argmax(prediction, axis=-1))]))\n",
        "    plt.show()\n",
        "\n",
        "    plt.bar(y_pos, prediction[0], align='center', alpha=0.5)\n",
        "    plt.xticks(y_pos, categories)\n",
        "    plt.ylabel('Persentase')\n",
        "    plt.title('Grafik')\n",
        "    plt.show()"
      ],
      "metadata": {
        "id": "YVuwoyOD42Xz"
      },
      "execution_count": 28,
      "outputs": []
    },
    {
      "cell_type": "code",
      "source": [
        "prediksi_gambar('30.jpg')"
      ],
      "metadata": {
        "colab": {
          "base_uri": "https://localhost:8080/",
          "height": 528
        },
        "id": "n4vcQP7o5Fjz",
        "outputId": "2a950059-54a5-4307-9990-c9ec29d7a492"
      },
      "execution_count": 29,
      "outputs": [
        {
          "output_type": "display_data",
          "data": {
            "text/plain": [
              "<Figure size 432x288 with 1 Axes>"
            ],
            "image/png": "[encoded data removed]"
          },
          "metadata": {
            "needs_background": "light"
          }
        },
        {
          "output_type": "display_data",
          "data": {
            "text/plain": [
              "<Figure size 432x288 with 1 Axes>"
            ],
            "image/png": "[encoded data removed]"
          },
          "metadata": {
            "needs_background": "light"
          }
        }
      ]
    },
    {
      "cell_type": "markdown",
      "source": [
        "Pengujian menggunakan live video\n",
        "\n",
        "Sumber:\n",
        "\n",
        "*   https://colab.research.google.com/drive/1QnC7lV7oVFk5OZCm75fqbLAfD9qBy9bw#scrollTo=1nkSnkbkk4cC\n",
        "*   https://github.com/NiiT-Kolkata/sentiment-analysis-face-emotion-recognition/blob/main/detect_video.py\n",
        "\n"
      ],
      "metadata": {
        "id": "N5xSJ5HY5Tft"
      }
    },
    {
      "cell_type": "code",
      "source": [
        "from IPython.display import display, Javascript, Image\n",
        "from google.colab.output import eval_js\n",
        "from base64 import b64decode, b64encode\n",
        "import cv2\n",
        "import numpy as np\n",
        "import PIL\n",
        "import io\n",
        "import html\n",
        "import time"
      ],
      "metadata": {
        "id": "CSatx5y95V9Z"
      },
      "execution_count": 30,
      "outputs": []
    },
    {
      "cell_type": "code",
      "source": [
        "# function to convert the JavaScript object into an OpenCV image\n",
        "def js_to_image(js_reply):\n",
        "  \"\"\"\n",
        "  Params:\n",
        "          js_reply: JavaScript object containing image from webcam\n",
        "  Returns:\n",
        "          img: OpenCV BGR image\n",
        "  \"\"\"\n",
        "  # decode base64 image\n",
        "  image_bytes = b64decode(js_reply.split(',')[1])\n",
        "  # convert bytes to numpy array\n",
        "  jpg_as_np = np.frombuffer(image_bytes, dtype=np.uint8)\n",
        "  # decode numpy array into OpenCV BGR image\n",
        "  img = cv2.imdecode(jpg_as_np, flags=1)\n",
        "\n",
        "  return img\n",
        "\n",
        "# function to convert OpenCV Rectangle bounding box image into base64 byte string to be overlayed on video stream\n",
        "def bbox_to_bytes(bbox_array):\n",
        "  \"\"\"\n",
        "  Params:\n",
        "          bbox_array: Numpy array (pixels) containing rectangle to overlay on video stream.\n",
        "  Returns:\n",
        "        bytes: Base64 image byte string\n",
        "  \"\"\"\n",
        "  # convert array into PIL image\n",
        "  bbox_PIL = PIL.Image.fromarray(bbox_array, 'RGBA')\n",
        "  iobuf = io.BytesIO()\n",
        "  # format bbox into png for return\n",
        "  bbox_PIL.save(iobuf, format='png')\n",
        "  # format return string\n",
        "  bbox_bytes = 'data:image/png;base64,{}'.format((str(b64encode(iobuf.getvalue()), 'utf-8')))\n",
        "\n",
        "  return bbox_bytes"
      ],
      "metadata": {
        "id": "QBC_TTMG57s3"
      },
      "execution_count": 31,
      "outputs": []
    },
    {
      "cell_type": "code",
      "source": [
        "face_cascade = cv2.CascadeClassifier(cv2.samples.findFile(cv2.data.haarcascades + 'haarcascade_frontalface_default.xml'))"
      ],
      "metadata": {
        "id": "DGSV_Bly6Anf"
      },
      "execution_count": 32,
      "outputs": []
    },
    {
      "cell_type": "code",
      "source": [
        "# JavaScript to properly create our live video stream using our webcam as input\n",
        "def video_stream():\n",
        "  js = Javascript('''\n",
        "    var video;\n",
        "    var div = null;\n",
        "    var stream;\n",
        "    var captureCanvas;\n",
        "    var imgElement;\n",
        "    var labelElement;\n",
        "    \n",
        "    var pendingResolve = null;\n",
        "    var shutdown = false;\n",
        "    \n",
        "    function removeDom() {\n",
        "       stream.getVideoTracks()[0].stop();\n",
        "       video.remove();\n",
        "       div.remove();\n",
        "       video = null;\n",
        "       div = null;\n",
        "       stream = null;\n",
        "       imgElement = null;\n",
        "       captureCanvas = null;\n",
        "       labelElement = null;\n",
        "    }\n",
        "    \n",
        "    function onAnimationFrame() {\n",
        "      if (!shutdown) {\n",
        "        window.requestAnimationFrame(onAnimationFrame);\n",
        "      }\n",
        "      if (pendingResolve) {\n",
        "        var result = \"\";\n",
        "        if (!shutdown) {\n",
        "          captureCanvas.getContext('2d').drawImage(video, 0, 0, 640, 480);\n",
        "          result = captureCanvas.toDataURL('image/jpeg', 0.8)\n",
        "        }\n",
        "        var lp = pendingResolve;\n",
        "        pendingResolve = null;\n",
        "        lp(result);\n",
        "      }\n",
        "    }\n",
        "    \n",
        "    async function createDom() {\n",
        "      if (div !== null) {\n",
        "        return stream;\n",
        "      }\n",
        "\n",
        "      div = document.createElement('div');\n",
        "      div.style.border = '2px solid black';\n",
        "      div.style.padding = '3px';\n",
        "      div.style.width = '100%';\n",
        "      div.style.maxWidth = '600px';\n",
        "      document.body.appendChild(div);\n",
        "      \n",
        "      const modelOut = document.createElement('div');\n",
        "      modelOut.innerHTML = \"<span>Status:</span> \";\n",
        "      labelElement = document.createElement('span');\n",
        "      labelElement.innerText = 'Persiapan..';\n",
        "      labelElement.style.fontWeight = 'bold';\n",
        "      modelOut.appendChild(labelElement);\n",
        "      div.appendChild(modelOut);\n",
        "           \n",
        "      video = document.createElement('video');\n",
        "      video.style.display = 'block';\n",
        "      video.width = div.clientWidth - 6;\n",
        "      video.setAttribute('playsinline', '');\n",
        "      video.onclick = () => { shutdown = true; };\n",
        "      stream = await navigator.mediaDevices.getUserMedia(\n",
        "          {video: { facingMode: \"environment\"}});\n",
        "      div.appendChild(video);\n",
        "\n",
        "      imgElement = document.createElement('img');\n",
        "      imgElement.style.position = 'absolute';\n",
        "      imgElement.style.zIndex = 1;\n",
        "      imgElement.onclick = () => { shutdown = true; };\n",
        "      div.appendChild(imgElement);\n",
        "      \n",
        "      const instruction = document.createElement('div');\n",
        "      instruction.innerHTML = \n",
        "          '<span style=\"color: red; font-weight: bold;\">' +\n",
        "          'Klik di sini untuk menghentikan!</span>';\n",
        "      div.appendChild(instruction);\n",
        "      instruction.onclick = () => { shutdown = true; };\n",
        "      \n",
        "      video.srcObject = stream;\n",
        "      await video.play();\n",
        "\n",
        "      captureCanvas = document.createElement('canvas');\n",
        "      captureCanvas.width = 640; //video.videoWidth;\n",
        "      captureCanvas.height = 480; //video.videoHeight;\n",
        "      window.requestAnimationFrame(onAnimationFrame);\n",
        "      \n",
        "      return stream;\n",
        "    }\n",
        "    async function stream_frame(label, imgData) {\n",
        "      if (shutdown) {\n",
        "        removeDom();\n",
        "        shutdown = false;\n",
        "        return '';\n",
        "      }\n",
        "\n",
        "      var preCreate = Date.now();\n",
        "      stream = await createDom();\n",
        "      \n",
        "      var preShow = Date.now();\n",
        "      if (label != \"\") {\n",
        "        labelElement.innerHTML = label;\n",
        "      }\n",
        "            \n",
        "      if (imgData != \"\") {\n",
        "        var videoRect = video.getClientRects()[0];\n",
        "        imgElement.style.top = videoRect.top + \"px\";\n",
        "        imgElement.style.left = videoRect.left + \"px\";\n",
        "        imgElement.style.width = videoRect.width + \"px\";\n",
        "        imgElement.style.height = videoRect.height + \"px\";\n",
        "        imgElement.src = imgData;\n",
        "      }\n",
        "      \n",
        "      var preCapture = Date.now();\n",
        "      var result = await new Promise(function(resolve, reject) {\n",
        "        pendingResolve = resolve;\n",
        "      });\n",
        "      shutdown = false;\n",
        "      \n",
        "      return {'create': preShow - preCreate, \n",
        "              'show': preCapture - preShow, \n",
        "              'capture': Date.now() - preCapture,\n",
        "              'img': result};\n",
        "    }\n",
        "    ''')\n",
        "\n",
        "  display(js)\n",
        "  \n",
        "def video_frame(label, bbox):\n",
        "  data = eval_js('stream_frame(\"{}\", \"{}\")'.format(label, bbox))\n",
        "  return data"
      ],
      "metadata": {
        "id": "HvxIQZKy6DGG"
      },
      "execution_count": 33,
      "outputs": []
    },
    {
      "cell_type": "code",
      "source": [
        "import tensorflow as tf\n",
        "import numpy as np\n",
        "\n",
        "from collections import Counter\n",
        "import matplotlib.pyplot as plt\n",
        "import time\n",
        "\n",
        "model = tf.keras.models.load_model(\"MLT2FACE6.h5\")\n",
        "categories = ('Marah', 'Jijik', 'Takut', 'Senang', 'Netral', 'Sedih', 'Kejutan')\n",
        "y_pos = np.arange(len(categories))\n",
        "\n",
        "start = time.time()\n",
        "\n",
        "# start streaming video from webcam\n",
        "video_stream()\n",
        "# label for video\n",
        "label_html = 'Memprediksi...'\n",
        "# initialze bounding box to empty\n",
        "bbox = ''\n",
        "count = 0\n",
        "npred=[]\n",
        "while True:\n",
        "    js_reply = video_frame(label_html, bbox)\n",
        "    if not js_reply:\n",
        "        break\n",
        "\n",
        "    # convert JS response to OpenCV Image\n",
        "    img = js_to_image(js_reply[\"img\"])\n",
        "\n",
        "    # create transparent overlay for bounding box\n",
        "    bbox_array = np.zeros([480,640,4], dtype=np.uint8)\n",
        "\n",
        "    # grayscale image for face detection\n",
        "    gray = cv2.cvtColor(img, cv2.COLOR_RGB2GRAY)\n",
        "\n",
        "    final_img = cv2.resize(gray,(48,48),1)\n",
        "    final_img = np.expand_dims(final_img,axis=0) # need 4th dimension\n",
        "    final_img = final_img/255 # normalizing             \n",
        "\n",
        "    prediction = model.predict(final_img)\n",
        "#    print(prediction)\n",
        "#    print(str(categories[int(np.argmax(prediction, axis=-1))]))\n",
        "    npred.append(int(np.argmax(prediction, axis=-1)))\n",
        "    ekspresi = str(categories[int(np.argmax(prediction, axis=-1))])\n",
        "\n",
        "    # get face region coordinates\n",
        "    faces = face_cascade.detectMultiScale(gray)\n",
        "    # get face bounding box for overlay\n",
        "    for (x,y,w,h) in faces:\n",
        "      bbox_array = cv2.rectangle(bbox_array,(x,y),(x+w,y+h),(100,149,237),2)\n",
        "    \n",
        "      cv2.putText(bbox_array,ekspresi,(x + int(w/15),y + int(h/1.1)),cv2.FONT_HERSHEY_SIMPLEX,0.7,(100,149,237),2)\n",
        "\n",
        "    bbox_array[:,:,3] = (bbox_array.max(axis = 2) > 0 ).astype(int) * 255\n",
        "    # convert overlay of bbox into bytes\n",
        "    bbox_bytes = bbox_to_bytes(bbox_array)\n",
        "    # update bbox so next frame gets new overlay\n",
        "    bbox = bbox_bytes\n",
        "\n",
        "stop = time.time()\n",
        "ntme = int(stop - start)\n",
        "#print(\"The time of the run:\", str(ntme))\n",
        "\n",
        "#print(npred)\n",
        "#print(Counter(npred).keys()) # equals to list(set(words))\n",
        "#print(Counter(npred).values()) # counts the elements' frequency\n",
        "\n",
        "plt.bar(y_pos, prediction[0], align='center', alpha=0.5)\n",
        "plt.xticks(y_pos, categories)\n",
        "plt.ylabel('Persentase')\n",
        "plt.title('Grafik selama Diskusi ('+str(ntme)+' detik)')\n",
        "plt.show()"
      ],
      "metadata": {
        "colab": {
          "base_uri": "https://localhost:8080/",
          "height": 281
        },
        "id": "Sa7vTTsc6alj",
        "outputId": "aa3ec692-24fd-4af9-a025-1912bdb6b89e"
      },
      "execution_count": 34,
      "outputs": [
        {
          "output_type": "display_data",
          "data": {
            "text/plain": [
              "<IPython.core.display.Javascript object>"
            ],
            "application/javascript": [
              "\n",
              "    var video;\n",
              "    var div = null;\n",
              "    var stream;\n",
              "    var captureCanvas;\n",
              "    var imgElement;\n",
              "    var labelElement;\n",
              "    \n",
              "    var pendingResolve = null;\n",
              "    var shutdown = false;\n",
              "    \n",
              "    function removeDom() {\n",
              "       stream.getVideoTracks()[0].stop();\n",
              "       video.remove();\n",
              "       div.remove();\n",
              "       video = null;\n",
              "       div = null;\n",
              "       stream = null;\n",
              "       imgElement = null;\n",
              "       captureCanvas = null;\n",
              "       labelElement = null;\n",
              "    }\n",
              "    \n",
              "    function onAnimationFrame() {\n",
              "      if (!shutdown) {\n",
              "        window.requestAnimationFrame(onAnimationFrame);\n",
              "      }\n",
              "      if (pendingResolve) {\n",
              "        var result = \"\";\n",
              "        if (!shutdown) {\n",
              "          captureCanvas.getContext('2d').drawImage(video, 0, 0, 640, 480);\n",
              "          result = captureCanvas.toDataURL('image/jpeg', 0.8)\n",
              "        }\n",
              "        var lp = pendingResolve;\n",
              "        pendingResolve = null;\n",
              "        lp(result);\n",
              "      }\n",
              "    }\n",
              "    \n",
              "    async function createDom() {\n",
              "      if (div !== null) {\n",
              "        return stream;\n",
              "      }\n",
              "\n",
              "      div = document.createElement('div');\n",
              "      div.style.border = '2px solid black';\n",
              "      div.style.padding = '3px';\n",
              "      div.style.width = '100%';\n",
              "      div.style.maxWidth = '600px';\n",
              "      document.body.appendChild(div);\n",
              "      \n",
              "      const modelOut = document.createElement('div');\n",
              "      modelOut.innerHTML = \"<span>Status:</span> \";\n",
              "      labelElement = document.createElement('span');\n",
              "      labelElement.innerText = 'Persiapan..';\n",
              "      labelElement.style.fontWeight = 'bold';\n",
              "      modelOut.appendChild(labelElement);\n",
              "      div.appendChild(modelOut);\n",
              "           \n",
              "      video = document.createElement('video');\n",
              "      video.style.display = 'block';\n",
              "      video.width = div.clientWidth - 6;\n",
              "      video.setAttribute('playsinline', '');\n",
              "      video.onclick = () => { shutdown = true; };\n",
              "      stream = await navigator.mediaDevices.getUserMedia(\n",
              "          {video: { facingMode: \"environment\"}});\n",
              "      div.appendChild(video);\n",
              "\n",
              "      imgElement = document.createElement('img');\n",
              "      imgElement.style.position = 'absolute';\n",
              "      imgElement.style.zIndex = 1;\n",
              "      imgElement.onclick = () => { shutdown = true; };\n",
              "      div.appendChild(imgElement);\n",
              "      \n",
              "      const instruction = document.createElement('div');\n",
              "      instruction.innerHTML = \n",
              "          '<span style=\"color: red; font-weight: bold;\">' +\n",
              "          'Klik di sini untuk menghentikan!</span>';\n",
              "      div.appendChild(instruction);\n",
              "      instruction.onclick = () => { shutdown = true; };\n",
              "      \n",
              "      video.srcObject = stream;\n",
              "      await video.play();\n",
              "\n",
              "      captureCanvas = document.createElement('canvas');\n",
              "      captureCanvas.width = 640; //video.videoWidth;\n",
              "      captureCanvas.height = 480; //video.videoHeight;\n",
              "      window.requestAnimationFrame(onAnimationFrame);\n",
              "      \n",
              "      return stream;\n",
              "    }\n",
              "    async function stream_frame(label, imgData) {\n",
              "      if (shutdown) {\n",
              "        removeDom();\n",
              "        shutdown = false;\n",
              "        return '';\n",
              "      }\n",
              "\n",
              "      var preCreate = Date.now();\n",
              "      stream = await createDom();\n",
              "      \n",
              "      var preShow = Date.now();\n",
              "      if (label != \"\") {\n",
              "        labelElement.innerHTML = label;\n",
              "      }\n",
              "            \n",
              "      if (imgData != \"\") {\n",
              "        var videoRect = video.getClientRects()[0];\n",
              "        imgElement.style.top = videoRect.top + \"px\";\n",
              "        imgElement.style.left = videoRect.left + \"px\";\n",
              "        imgElement.style.width = videoRect.width + \"px\";\n",
              "        imgElement.style.height = videoRect.height + \"px\";\n",
              "        imgElement.src = imgData;\n",
              "      }\n",
              "      \n",
              "      var preCapture = Date.now();\n",
              "      var result = await new Promise(function(resolve, reject) {\n",
              "        pendingResolve = resolve;\n",
              "      });\n",
              "      shutdown = false;\n",
              "      \n",
              "      return {'create': preShow - preCreate, \n",
              "              'show': preCapture - preShow, \n",
              "              'capture': Date.now() - preCapture,\n",
              "              'img': result};\n",
              "    }\n",
              "    "
            ]
          },
          "metadata": {}
        },
        {
          "output_type": "display_data",
          "data": {
            "text/plain": [
              "<Figure size 432x288 with 1 Axes>"
            ],
            "image/png": "[encoded data removed]"
          },
          "metadata": {
            "needs_background": "light"
          }
        }
      ]
    }
  ]
}