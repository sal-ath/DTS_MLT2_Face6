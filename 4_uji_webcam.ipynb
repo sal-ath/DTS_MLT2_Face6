{
  "nbformat": 4,
  "nbformat_minor": 0,
  "metadata": {
    "colab": {
      "name": "4_uji_webcam.ipynb",
      "provenance": []
    },
    "kernelspec": {
      "name": "python3",
      "display_name": "Python 3"
    },
    "language_info": {
      "name": "python"
    }
  },
  "cells": [
    {
      "cell_type": "code",
      "execution_count": null,
      "metadata": {
        "id": "SZrkVr7V9c21"
      },
      "outputs": [],
      "source": [
        ""
      ]
    }
  ]
}